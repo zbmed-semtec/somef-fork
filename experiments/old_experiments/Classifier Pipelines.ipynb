{
 "cells": [
  {
   "cell_type": "markdown",
   "metadata": {},
   "source": [
    "## CountVectorizer + NaiveBayes"
   ]
  },
  {
   "cell_type": "code",
   "execution_count": 7,
   "metadata": {},
   "outputs": [
    {
     "name": "stdout",
     "output_type": "stream",
     "text": [
      "Requirement already satisfied: pandas in c:\\programdata\\anaconda3\\envs\\python39\\lib\\site-packages (1.3.3)\n",
      "Requirement already satisfied: numpy>=1.17.3 in c:\\programdata\\anaconda3\\envs\\python39\\lib\\site-packages (from pandas) (1.21.2)\n",
      "Requirement already satisfied: pytz>=2017.3 in c:\\programdata\\anaconda3\\envs\\python39\\lib\\site-packages (from pandas) (2021.1)\n",
      "Requirement already satisfied: python-dateutil>=2.7.3 in c:\\programdata\\anaconda3\\envs\\python39\\lib\\site-packages (from pandas) (2.8.2)\n",
      "Requirement already satisfied: six>=1.5 in c:\\programdata\\anaconda3\\envs\\python39\\lib\\site-packages (from python-dateutil>=2.7.3->pandas) (1.16.0)\n",
      "Note: you may need to restart the kernel to use updated packages.\n",
      "Requirement already satisfied: nltk in c:\\programdata\\anaconda3\\envs\\python39\\lib\\site-packages (3.6.3)\n",
      "Requirement already satisfied: joblib in c:\\programdata\\anaconda3\\envs\\python39\\lib\\site-packages (from nltk) (1.0.1)\n",
      "Requirement already satisfied: tqdm in c:\\programdata\\anaconda3\\envs\\python39\\lib\\site-packages (from nltk) (4.62.3)\n",
      "Requirement already satisfied: click in c:\\programdata\\anaconda3\\envs\\python39\\lib\\site-packages (from nltk) (8.0.1)\n",
      "Requirement already satisfied: regex in c:\\programdata\\anaconda3\\envs\\python39\\lib\\site-packages (from nltk) (2021.9.30)\n",
      "Requirement already satisfied: colorama in c:\\programdata\\anaconda3\\envs\\python39\\lib\\site-packages (from click->nltk) (0.4.4)\n",
      "Note: you may need to restart the kernel to use updated packages.\n",
      "Requirement already satisfied: sklearn in c:\\programdata\\anaconda3\\envs\\python39\\lib\\site-packages (0.0)\n",
      "Requirement already satisfied: scikit-learn in c:\\programdata\\anaconda3\\envs\\python39\\lib\\site-packages (from sklearn) (1.0)\n",
      "Requirement already satisfied: threadpoolctl>=2.0.0 in c:\\programdata\\anaconda3\\envs\\python39\\lib\\site-packages (from scikit-learn->sklearn) (3.0.0)\n",
      "Requirement already satisfied: numpy>=1.14.6 in c:\\programdata\\anaconda3\\envs\\python39\\lib\\site-packages (from scikit-learn->sklearn) (1.21.2)\n",
      "Requirement already satisfied: joblib>=0.11 in c:\\programdata\\anaconda3\\envs\\python39\\lib\\site-packages (from scikit-learn->sklearn) (1.0.1)\n",
      "Requirement already satisfied: scipy>=1.1.0 in c:\\programdata\\anaconda3\\envs\\python39\\lib\\site-packages (from scikit-learn->sklearn) (1.7.1)\n",
      "Note: you may need to restart the kernel to use updated packages.\n"
     ]
    },
    {
     "name": "stderr",
     "output_type": "stream",
     "text": [
      "[nltk_data] Downloading package treebank to\n",
      "[nltk_data]     C:\\Users\\magarcia\\AppData\\Roaming\\nltk_data...\n",
      "[nltk_data]   Unzipping corpora\\treebank.zip.\n"
     ]
    }
   ],
   "source": [
    "%pip install pandas\n",
    "%pip install nltk\n",
    "%pip install sklearn\n",
    "\n",
    "import random\n",
    "import pandas as pd\n",
    "import nltk\n",
    "nltk.download('treebank')\n",
    "from nltk.corpus import treebank\n",
    "from sklearn.model_selection import train_test_split\n",
    "\n",
    "description_df = pd.read_csv('./training_corpus/description.csv')\n",
    "installation_df = pd.read_csv('./training_corpus/installation.csv')\n",
    "invocation_df = pd.read_csv('./training_corpus/invocation.csv')\n",
    "citation_df = pd.read_csv('./training_corpus/citation.csv')"
   ]
  },
  {
   "cell_type": "markdown",
   "metadata": {},
   "source": [
    "## Data Preview\n",
    "Make sure that csv data has been successfully imported."
   ]
  },
  {
   "cell_type": "code",
   "execution_count": 8,
   "metadata": {},
   "outputs": [
    {
     "name": "stdout",
     "output_type": "stream",
     "text": [
      "Number of description entries: 336\n",
      "Number of installation entries: 929\n",
      "Number of invocation entries: 1134\n",
      "Number of citation entries: 316\n"
     ]
    },
    {
     "data": {
      "text/html": [
       "<div>\n",
       "<style scoped>\n",
       "    .dataframe tbody tr th:only-of-type {\n",
       "        vertical-align: middle;\n",
       "    }\n",
       "\n",
       "    .dataframe tbody tr th {\n",
       "        vertical-align: top;\n",
       "    }\n",
       "\n",
       "    .dataframe thead th {\n",
       "        text-align: right;\n",
       "    }\n",
       "</style>\n",
       "<table border=\"1\" class=\"dataframe\">\n",
       "  <thead>\n",
       "    <tr style=\"text-align: right;\">\n",
       "      <th></th>\n",
       "      <th>URL</th>\n",
       "      <th>contributor</th>\n",
       "      <th>excerpt</th>\n",
       "    </tr>\n",
       "  </thead>\n",
       "  <tbody>\n",
       "    <tr>\n",
       "      <th>0</th>\n",
       "      <td>https://github.com/GoogleChrome/puppeteer</td>\n",
       "      <td>Allen Mao</td>\n",
       "      <td>Puppeteer is a Node library which provides a h...</td>\n",
       "    </tr>\n",
       "    <tr>\n",
       "      <th>1</th>\n",
       "      <td>https://github.com/JimmySuen/integral-human-pose</td>\n",
       "      <td>Allen Mao</td>\n",
       "      <td>The major contributors of this repository incl...</td>\n",
       "    </tr>\n",
       "    <tr>\n",
       "      <th>2</th>\n",
       "      <td>https://github.com/JimmySuen/integral-human-pose</td>\n",
       "      <td>Allen Mao</td>\n",
       "      <td>Integral Regression is initially described in ...</td>\n",
       "    </tr>\n",
       "    <tr>\n",
       "      <th>3</th>\n",
       "      <td>https://github.com/JimmySuen/integral-human-pose</td>\n",
       "      <td>Allen Mao</td>\n",
       "      <td>We build a 3D pose estimation system based mai...</td>\n",
       "    </tr>\n",
       "    <tr>\n",
       "      <th>4</th>\n",
       "      <td>https://github.com/JimmySuen/integral-human-pose</td>\n",
       "      <td>Allen Mao</td>\n",
       "      <td>The Integral Regression is also known as soft-...</td>\n",
       "    </tr>\n",
       "  </tbody>\n",
       "</table>\n",
       "</div>"
      ],
      "text/plain": [
       "                                                URL contributor  \\\n",
       "0         https://github.com/GoogleChrome/puppeteer   Allen Mao   \n",
       "1  https://github.com/JimmySuen/integral-human-pose   Allen Mao   \n",
       "2  https://github.com/JimmySuen/integral-human-pose   Allen Mao   \n",
       "3  https://github.com/JimmySuen/integral-human-pose   Allen Mao   \n",
       "4  https://github.com/JimmySuen/integral-human-pose   Allen Mao   \n",
       "\n",
       "                                             excerpt  \n",
       "0  Puppeteer is a Node library which provides a h...  \n",
       "1  The major contributors of this repository incl...  \n",
       "2  Integral Regression is initially described in ...  \n",
       "3  We build a 3D pose estimation system based mai...  \n",
       "4  The Integral Regression is also known as soft-...  "
      ]
     },
     "execution_count": 8,
     "metadata": {},
     "output_type": "execute_result"
    }
   ],
   "source": [
    "print(\"Number of description entries: {}\".format(len(description_df)))\n",
    "print(\"Number of installation entries: {}\".format(len(installation_df)))\n",
    "print(\"Number of invocation entries: {}\".format(len(invocation_df)))\n",
    "print(\"Number of citation entries: {}\".format(len(citation_df)))\n",
    "description_df.head()"
   ]
  },
  {
   "cell_type": "code",
   "execution_count": 9,
   "metadata": {},
   "outputs": [
    {
     "name": "stdout",
     "output_type": "stream",
     "text": [
      "Number of installation entries: 929\n"
     ]
    },
    {
     "data": {
      "text/html": [
       "<div>\n",
       "<style scoped>\n",
       "    .dataframe tbody tr th:only-of-type {\n",
       "        vertical-align: middle;\n",
       "    }\n",
       "\n",
       "    .dataframe tbody tr th {\n",
       "        vertical-align: top;\n",
       "    }\n",
       "\n",
       "    .dataframe thead th {\n",
       "        text-align: right;\n",
       "    }\n",
       "</style>\n",
       "<table border=\"1\" class=\"dataframe\">\n",
       "  <thead>\n",
       "    <tr style=\"text-align: right;\">\n",
       "      <th></th>\n",
       "      <th>URL</th>\n",
       "      <th>contributor</th>\n",
       "      <th>excerpt</th>\n",
       "    </tr>\n",
       "  </thead>\n",
       "  <tbody>\n",
       "    <tr>\n",
       "      <th>0</th>\n",
       "      <td>https://github.com/GoogleChrome/puppeteer</td>\n",
       "      <td>Allen Mao</td>\n",
       "      <td>Installation</td>\n",
       "    </tr>\n",
       "    <tr>\n",
       "      <th>1</th>\n",
       "      <td>https://github.com/GoogleChrome/puppeteer</td>\n",
       "      <td>Allen Mao</td>\n",
       "      <td>To use Puppeteer in your project, run:</td>\n",
       "    </tr>\n",
       "    <tr>\n",
       "      <th>2</th>\n",
       "      <td>https://github.com/GoogleChrome/puppeteer</td>\n",
       "      <td>Allen Mao</td>\n",
       "      <td>npm i puppeteer</td>\n",
       "    </tr>\n",
       "    <tr>\n",
       "      <th>3</th>\n",
       "      <td>https://github.com/GoogleChrome/puppeteer</td>\n",
       "      <td>Allen Mao</td>\n",
       "      <td># or \"yarn add puppeteer\"</td>\n",
       "    </tr>\n",
       "    <tr>\n",
       "      <th>4</th>\n",
       "      <td>https://github.com/GoogleChrome/puppeteer</td>\n",
       "      <td>Allen Mao</td>\n",
       "      <td>puppeteer-core</td>\n",
       "    </tr>\n",
       "  </tbody>\n",
       "</table>\n",
       "</div>"
      ],
      "text/plain": [
       "                                         URL contributor  \\\n",
       "0  https://github.com/GoogleChrome/puppeteer   Allen Mao   \n",
       "1  https://github.com/GoogleChrome/puppeteer   Allen Mao   \n",
       "2  https://github.com/GoogleChrome/puppeteer   Allen Mao   \n",
       "3  https://github.com/GoogleChrome/puppeteer   Allen Mao   \n",
       "4  https://github.com/GoogleChrome/puppeteer   Allen Mao   \n",
       "\n",
       "                                  excerpt  \n",
       "0                            Installation  \n",
       "1  To use Puppeteer in your project, run:  \n",
       "2                         npm i puppeteer  \n",
       "3               # or \"yarn add puppeteer\"  \n",
       "4                          puppeteer-core  "
      ]
     },
     "execution_count": 9,
     "metadata": {},
     "output_type": "execute_result"
    }
   ],
   "source": [
    "print(\"Number of installation entries: {}\".format(len(installation_df)))\n",
    "installation_df.head()"
   ]
  },
  {
   "cell_type": "code",
   "execution_count": 10,
   "metadata": {},
   "outputs": [
    {
     "name": "stdout",
     "output_type": "stream",
     "text": [
      "Number of invocation entries: 1134\n"
     ]
    },
    {
     "data": {
      "text/html": [
       "<div>\n",
       "<style scoped>\n",
       "    .dataframe tbody tr th:only-of-type {\n",
       "        vertical-align: middle;\n",
       "    }\n",
       "\n",
       "    .dataframe tbody tr th {\n",
       "        vertical-align: top;\n",
       "    }\n",
       "\n",
       "    .dataframe thead th {\n",
       "        text-align: right;\n",
       "    }\n",
       "</style>\n",
       "<table border=\"1\" class=\"dataframe\">\n",
       "  <thead>\n",
       "    <tr style=\"text-align: right;\">\n",
       "      <th></th>\n",
       "      <th>URL</th>\n",
       "      <th>contributor</th>\n",
       "      <th>excerpt</th>\n",
       "    </tr>\n",
       "  </thead>\n",
       "  <tbody>\n",
       "    <tr>\n",
       "      <th>0</th>\n",
       "      <td>https://github.com/JimmySuen/integral-human-pose</td>\n",
       "      <td>Allen Mao</td>\n",
       "      <td>Usage</td>\n",
       "    </tr>\n",
       "    <tr>\n",
       "      <th>1</th>\n",
       "      <td>https://github.com/JimmySuen/integral-human-pose</td>\n",
       "      <td>Allen Mao</td>\n",
       "      <td>We have placed some example config files in ex...</td>\n",
       "    </tr>\n",
       "    <tr>\n",
       "      <th>2</th>\n",
       "      <td>https://github.com/JimmySuen/integral-human-pose</td>\n",
       "      <td>Allen Mao</td>\n",
       "      <td>Train</td>\n",
       "    </tr>\n",
       "    <tr>\n",
       "      <th>3</th>\n",
       "      <td>https://github.com/JimmySuen/integral-human-pose</td>\n",
       "      <td>Allen Mao</td>\n",
       "      <td>For Integral Human Pose Regression, cd to pyto...</td>\n",
       "    </tr>\n",
       "    <tr>\n",
       "      <th>4</th>\n",
       "      <td>https://github.com/JimmySuen/integral-human-pose</td>\n",
       "      <td>Allen Mao</td>\n",
       "      <td>Integral Regression</td>\n",
       "    </tr>\n",
       "  </tbody>\n",
       "</table>\n",
       "</div>"
      ],
      "text/plain": [
       "                                                URL contributor  \\\n",
       "0  https://github.com/JimmySuen/integral-human-pose   Allen Mao   \n",
       "1  https://github.com/JimmySuen/integral-human-pose   Allen Mao   \n",
       "2  https://github.com/JimmySuen/integral-human-pose   Allen Mao   \n",
       "3  https://github.com/JimmySuen/integral-human-pose   Allen Mao   \n",
       "4  https://github.com/JimmySuen/integral-human-pose   Allen Mao   \n",
       "\n",
       "                                             excerpt  \n",
       "0                                              Usage  \n",
       "1  We have placed some example config files in ex...  \n",
       "2                                              Train  \n",
       "3  For Integral Human Pose Regression, cd to pyto...  \n",
       "4                                Integral Regression  "
      ]
     },
     "execution_count": 10,
     "metadata": {},
     "output_type": "execute_result"
    }
   ],
   "source": [
    "print(\"Number of invocation entries: {}\".format(len(invocation_df)))\n",
    "invocation_df.head()"
   ]
  },
  {
   "cell_type": "code",
   "execution_count": 11,
   "metadata": {},
   "outputs": [
    {
     "name": "stdout",
     "output_type": "stream",
     "text": [
      "Number of citation entries: 316\n"
     ]
    },
    {
     "data": {
      "text/html": [
       "<div>\n",
       "<style scoped>\n",
       "    .dataframe tbody tr th:only-of-type {\n",
       "        vertical-align: middle;\n",
       "    }\n",
       "\n",
       "    .dataframe tbody tr th {\n",
       "        vertical-align: top;\n",
       "    }\n",
       "\n",
       "    .dataframe thead th {\n",
       "        text-align: right;\n",
       "    }\n",
       "</style>\n",
       "<table border=\"1\" class=\"dataframe\">\n",
       "  <thead>\n",
       "    <tr style=\"text-align: right;\">\n",
       "      <th></th>\n",
       "      <th>URL</th>\n",
       "      <th>contributor</th>\n",
       "      <th>excerpt</th>\n",
       "    </tr>\n",
       "  </thead>\n",
       "  <tbody>\n",
       "    <tr>\n",
       "      <th>0</th>\n",
       "      <td>https://github.com/JimmySuen/integral-human-pose</td>\n",
       "      <td>Allen Mao</td>\n",
       "      <td>If you find Integral Regression useful in your...</td>\n",
       "    </tr>\n",
       "    <tr>\n",
       "      <th>1</th>\n",
       "      <td>https://github.com/JimmySuen/integral-human-pose</td>\n",
       "      <td>Allen Mao</td>\n",
       "      <td>@article{sun2017integral,</td>\n",
       "    </tr>\n",
       "    <tr>\n",
       "      <th>2</th>\n",
       "      <td>https://github.com/JimmySuen/integral-human-pose</td>\n",
       "      <td>Allen Mao</td>\n",
       "      <td>title={Integral human pose regression},</td>\n",
       "    </tr>\n",
       "    <tr>\n",
       "      <th>3</th>\n",
       "      <td>https://github.com/JimmySuen/integral-human-pose</td>\n",
       "      <td>Allen Mao</td>\n",
       "      <td>author={Sun, Xiao and Xiao, Bin and Liang, Shu...</td>\n",
       "    </tr>\n",
       "    <tr>\n",
       "      <th>4</th>\n",
       "      <td>https://github.com/JimmySuen/integral-human-pose</td>\n",
       "      <td>Allen Mao</td>\n",
       "      <td>journal={arXiv preprint arXiv:1711.08229},</td>\n",
       "    </tr>\n",
       "  </tbody>\n",
       "</table>\n",
       "</div>"
      ],
      "text/plain": [
       "                                                URL contributor  \\\n",
       "0  https://github.com/JimmySuen/integral-human-pose   Allen Mao   \n",
       "1  https://github.com/JimmySuen/integral-human-pose   Allen Mao   \n",
       "2  https://github.com/JimmySuen/integral-human-pose   Allen Mao   \n",
       "3  https://github.com/JimmySuen/integral-human-pose   Allen Mao   \n",
       "4  https://github.com/JimmySuen/integral-human-pose   Allen Mao   \n",
       "\n",
       "                                             excerpt  \n",
       "0  If you find Integral Regression useful in your...  \n",
       "1                          @article{sun2017integral,  \n",
       "2            title={Integral human pose regression},  \n",
       "3  author={Sun, Xiao and Xiao, Bin and Liang, Shu...  \n",
       "4         journal={arXiv preprint arXiv:1711.08229},  "
      ]
     },
     "execution_count": 11,
     "metadata": {},
     "output_type": "execute_result"
    }
   ],
   "source": [
    "print(\"Number of citation entries: {}\".format(len(citation_df)))\n",
    "citation_df.head()"
   ]
  },
  {
   "cell_type": "markdown",
   "metadata": {},
   "source": [
    "# Classifier Pipelines"
   ]
  },
  {
   "cell_type": "code",
   "execution_count": 12,
   "metadata": {},
   "outputs": [
    {
     "name": "stdout",
     "output_type": "stream",
     "text": [
      "Selected Category: description\n",
      "description has 336 samples;\n",
      "installation has 84 samples;\n",
      "invocation has 84 samples;\n",
      "citation has 84 samples;\n"
     ]
    },
    {
     "name": "stderr",
     "output_type": "stream",
     "text": [
      "C:\\Users\\magarcia\\somef-magarcia\\experiments\\setup_corpus.py:22: FutureWarning: In a future version of pandas all arguments of DataFrame.drop except for the argument 'labels' will be keyword-only\n",
      "  categories_df[category].drop('URL', 1, inplace=True)\n"
     ]
    },
    {
     "name": "stdout",
     "output_type": "stream",
     "text": [
      "Selected Category: installation\n",
      "description has 232 samples;\n",
      "installation has 929 samples;\n",
      "invocation has 232 samples;\n",
      "citation has 232 samples;\n",
      "Selected Category: invocation\n",
      "description has 283 samples;\n",
      "installation has 283 samples;\n",
      "invocation has 1134 samples;\n",
      "citation has 283 samples;\n",
      "Selected Category: citation\n",
      "description has 79 samples;\n",
      "installation has 79 samples;\n",
      "invocation has 79 samples;\n",
      "citation has 316 samples;\n"
     ]
    }
   ],
   "source": [
    "import numpy as np\n",
    "import pickle\n",
    "from sklearn.model_selection import cross_val_score, cross_validate, StratifiedKFold\n",
    "from sklearn.pipeline import make_pipeline\n",
    "from sklearn.model_selection import train_test_split #can add stratified later\n",
    "from sklearn.metrics import make_scorer, accuracy_score, precision_score, recall_score, f1_score\n",
    "from setup_corpus import build_corpora\n",
    "corpora = build_corpora()\n",
    "# print(corpora)"
   ]
  },
  {
   "cell_type": "code",
   "execution_count": 13,
   "metadata": {},
   "outputs": [
    {
     "data": {
      "text/plain": [
       "'C:\\\\Users\\\\magarcia\\\\somef-magarcia\\\\experiments'"
      ]
     },
     "execution_count": 13,
     "metadata": {},
     "output_type": "execute_result"
    }
   ],
   "source": [
    "%pwd"
   ]
  },
  {
   "cell_type": "raw",
   "metadata": {},
   "source": []
  },
  {
   "cell_type": "code",
   "execution_count": 39,
   "metadata": {},
   "outputs": [],
   "source": [
    "import pickle\n",
    "\n",
    "scoring = {'accuracy' : make_scorer(accuracy_score), \n",
    "           'precision' : make_scorer(precision_score),\n",
    "           'recall' : make_scorer(recall_score), \n",
    "           'f1_score' : make_scorer(f1_score)}\n",
    "\n",
    "def evaluate(corpora,pipeline,name):\n",
    "    dec = 3\n",
    "    cv = StratifiedKFold(n_splits = 5, shuffle=True)\n",
    "    for category in corpora:\n",
    "        X = corpora[category].excerpt\n",
    "        Y = corpora[category][category]\n",
    "        print(\"\\n\",category,\"X\",len(X),\"Y\",len(Y))\n",
    "        X_train, X_test, y_train, y_test = train_test_split(X, Y, stratify=Y, test_size=0.2)\n",
    "        pipeline.fit(X_train, y_train)\n",
    "        title = \"./trained_models/\"+category[:3]+name+\".p\"\n",
    "        print(title)\n",
    "        pickle.dump(pipeline, open(title, 'wb+'))\n",
    "        scores = cross_validate(pipeline, X, Y, cv=cv, scoring = scoring)\n",
    "        print(\"Mean test accuracy:\",np.around(scores[\"test_accuracy\"].mean(),decimals=dec),\"\\nPrecision\",np.around(scores[\"test_precision\"].mean(),decimals=dec),\"\\nRecall\",np.around(scores[\"test_recall\"].mean(),decimals=dec),\"\\nF-measure\",np.around(scores[\"test_f1_score\"].mean(),decimals=dec))\n"
   ]
  },
  {
   "cell_type": "markdown",
   "metadata": {},
   "source": [
    "## CountVectorizer + LogisticRegression"
   ]
  },
  {
   "cell_type": "code",
   "execution_count": 40,
   "metadata": {},
   "outputs": [
    {
     "name": "stdout",
     "output_type": "stream",
     "text": [
      "\n",
      " description X 588 Y 588\n",
      "./test_models/descvlr.p\n",
      "Mean test accuracy: 0.808 \n",
      "Precision 0.865 \n",
      "Recall 0.792 \n",
      "F-measure 0.824\n",
      "\n",
      " installation X 1625 Y 1625\n",
      "./test_models/inscvlr.p\n",
      "Mean test accuracy: 0.877 \n",
      "Precision 0.881 \n",
      "Recall 0.909 \n",
      "F-measure 0.894\n",
      "\n",
      " invocation X 1983 Y 1983\n",
      "./test_models/invcvlr.p\n",
      "Mean test accuracy: 0.843 \n",
      "Precision 0.82 \n",
      "Recall 0.929 \n",
      "F-measure 0.871\n",
      "\n",
      " citation X 553 Y 553\n",
      "./test_models/citcvlr.p\n",
      "Mean test accuracy: 0.854 \n",
      "Precision 0.821 \n",
      "Recall 0.956 \n",
      "F-measure 0.882\n"
     ]
    }
   ],
   "source": [
    "from sklearn.feature_extraction.text import CountVectorizer\n",
    "from sklearn.linear_model import LogisticRegression\n",
    "from sklearn.metrics import make_scorer, accuracy_score, precision_score, recall_score, f1_score\n",
    "\n",
    "\n",
    "pipeline = make_pipeline(CountVectorizer(), LogisticRegression(solver='liblinear'))\n",
    "cv1 = StratifiedKFold(n_splits = 5, shuffle=True)\n",
    "name = \"cvlr\"\n",
    "evaluate(corpora,pipeline,name)"
   ]
  },
  {
   "cell_type": "markdown",
   "metadata": {},
   "source": [
    "Description: 81\n",
    "Installation: 84\n",
    "Invocation: 83\n",
    "Citation: 90\n",
    "[81 86 83 85]\n",
    "[81 86 84 86]\n",
    "[82 89 86 90]\n",
    "[82 86 85 86]\n",
    "[75 90 86 86]"
   ]
  },
  {
   "cell_type": "markdown",
   "metadata": {},
   "source": [
    "## TFIDF + LogisticRegression"
   ]
  },
  {
   "cell_type": "code",
   "execution_count": 41,
   "metadata": {},
   "outputs": [
    {
     "name": "stdout",
     "output_type": "stream",
     "text": [
      "\n",
      " description X 588 Y 588\n",
      "./test_models/destflr.p\n",
      "Mean test accuracy: 0.81 \n",
      "Precision 0.79 \n",
      "Recall 0.914 \n",
      "F-measure 0.847\n",
      "\n",
      " installation X 1625 Y 1625\n",
      "./test_models/instflr.p\n",
      "Mean test accuracy: 0.9 \n",
      "Precision 0.917 \n",
      "Recall 0.909 \n",
      "F-measure 0.912\n",
      "\n",
      " invocation X 1983 Y 1983\n",
      "./test_models/invtflr.p\n",
      "Mean test accuracy: 0.851 \n",
      "Precision 0.826 \n",
      "Recall 0.937 \n",
      "F-measure 0.878\n",
      "\n",
      " citation X 553 Y 553\n",
      "./test_models/cittflr.p\n",
      "Mean test accuracy: 0.859 \n",
      "Precision 0.82 \n",
      "Recall 0.968 \n",
      "F-measure 0.887\n"
     ]
    }
   ],
   "source": [
    "from sklearn.feature_extraction.text import TfidfVectorizer\n",
    "from sklearn.linear_model import LogisticRegression\n",
    "\n",
    "pipeline = make_pipeline(TfidfVectorizer(), LogisticRegression(solver='liblinear'))\n",
    "cv = StratifiedKFold(n_splits = 5, shuffle=True)\n",
    "name = \"tflr\"\n",
    "evaluate(corpora,pipeline,name)"
   ]
  },
  {
   "cell_type": "markdown",
   "metadata": {},
   "source": [
    "## TFIDF + NaiveBayes"
   ]
  },
  {
   "cell_type": "code",
   "execution_count": 42,
   "metadata": {},
   "outputs": [
    {
     "name": "stdout",
     "output_type": "stream",
     "text": [
      "\n",
      " description X 588 Y 588\n",
      "./test_models/destfnb.p\n",
      "Mean test accuracy: 0.769 \n",
      "Precision 0.716 \n",
      "Recall 0.988 \n",
      "F-measure 0.83\n",
      "\n",
      " installation X 1625 Y 1625\n",
      "./test_models/instfnb.p\n",
      "Mean test accuracy: 0.854 \n",
      "Precision 0.807 \n",
      "Recall 0.982 \n",
      "F-measure 0.885\n",
      "\n",
      " invocation X 1983 Y 1983\n",
      "./test_models/invtfnb.p\n",
      "Mean test accuracy: 0.868 \n",
      "Precision 0.845 \n",
      "Recall 0.942 \n",
      "F-measure 0.891\n",
      "\n",
      " citation X 553 Y 553\n",
      "./test_models/cittfnb.p\n",
      "Mean test accuracy: 0.863 \n",
      "Precision 0.827 \n",
      "Recall 0.962 \n",
      "F-measure 0.889\n"
     ]
    }
   ],
   "source": [
    "from sklearn.feature_extraction.text import TfidfVectorizer\n",
    "from sklearn.naive_bayes import MultinomialNB\n",
    "from sklearn.naive_bayes import GaussianNB\n",
    "\n",
    "pipeline = make_pipeline(TfidfVectorizer(), MultinomialNB())\n",
    "cv = StratifiedKFold(n_splits = 5, shuffle=True)\n",
    "name = \"tfnb\"\n",
    "evaluate(corpora,pipeline,name)"
   ]
  },
  {
   "cell_type": "code",
   "execution_count": 43,
   "metadata": {},
   "outputs": [
    {
     "name": "stdout",
     "output_type": "stream",
     "text": [
      "\n",
      " description X 588 Y 588\n",
      "./test_models/descvnb.p\n",
      "Mean test accuracy: 0.796 \n",
      "Precision 0.756 \n",
      "Recall 0.95 \n",
      "F-measure 0.842\n",
      "\n",
      " installation X 1625 Y 1625\n",
      "./test_models/inscvnb.p\n",
      "Mean test accuracy: 0.891 \n",
      "Precision 0.865 \n",
      "Recall 0.96 \n",
      "F-measure 0.91\n",
      "\n",
      " invocation X 1983 Y 1983\n",
      "./test_models/invcvnb.p\n",
      "Mean test accuracy: 0.871 \n",
      "Precision 0.881 \n",
      "Recall 0.897 \n",
      "F-measure 0.889\n",
      "\n",
      " citation X 553 Y 553\n",
      "./test_models/citcvnb.p\n",
      "Mean test accuracy: 0.901 \n",
      "Precision 0.882 \n",
      "Recall 0.956 \n",
      "F-measure 0.917\n"
     ]
    }
   ],
   "source": [
    "from sklearn.feature_extraction.text import CountVectorizer\n",
    "from sklearn.naive_bayes import MultinomialNB\n",
    "pipeline = make_pipeline(CountVectorizer(), MultinomialNB())\n",
    "cv = StratifiedKFold(n_splits = 5, shuffle=True)\n",
    "name = \"cvnb\"\n",
    "evaluate(corpora,pipeline,name)"
   ]
  },
  {
   "cell_type": "markdown",
   "metadata": {},
   "source": [
    "## CountVectorizer + BernoulliBayes"
   ]
  },
  {
   "cell_type": "code",
   "execution_count": 51,
   "metadata": {},
   "outputs": [
    {
     "name": "stdout",
     "output_type": "stream",
     "text": [
      "\n",
      " description X 588 Y 588\n",
      "./test_models/descvbb.p\n",
      "Mean test accuracy: 0.719 \n",
      "Precision 0.909 \n",
      "Recall 0.566 \n",
      "F-measure 0.697\n",
      "\n",
      " installation X 1625 Y 1625\n",
      "./test_models/inscvbb.p\n",
      "Mean test accuracy: 0.75 \n",
      "Precision 0.701 \n",
      "Recall 0.985 \n",
      "F-measure 0.819\n",
      "\n",
      " invocation X 1983 Y 1983\n",
      "./test_models/invcvbb.p\n",
      "Mean test accuracy: 0.766 \n",
      "Precision 0.728 \n",
      "Recall 0.943 \n",
      "F-measure 0.822\n",
      "\n",
      " citation X 553 Y 553\n",
      "./test_models/citcvbb.p\n",
      "Mean test accuracy: 0.743 \n",
      "Precision 0.694 \n",
      "Recall 0.987 \n",
      "F-measure 0.815\n"
     ]
    }
   ],
   "source": [
    "from sklearn.feature_extraction.text import CountVectorizer\n",
    "from sklearn.naive_bayes import BernoulliNB\n",
    "pipeline = make_pipeline(CountVectorizer(), BernoulliNB())\n",
    "cv = StratifiedKFold(n_splits = 5, shuffle=True)\n",
    "name = \"cvbb\"\n",
    "evaluate(corpora,pipeline,name)"
   ]
  },
  {
   "cell_type": "code",
   "execution_count": null,
   "metadata": {},
   "outputs": [],
   "source": []
  },
  {
   "cell_type": "markdown",
   "metadata": {},
   "source": [
    "## TFIDF + Stochastic Gradient Descent"
   ]
  },
  {
   "cell_type": "code",
   "execution_count": 45,
   "metadata": {},
   "outputs": [
    {
     "name": "stdout",
     "output_type": "stream",
     "text": [
      "\n",
      " description X 588 Y 588\n",
      "./test_models/destfsgd.p\n",
      "Mean test accuracy: 0.838 \n",
      "Precision 0.844 \n",
      "Recall 0.884 \n",
      "F-measure 0.862\n",
      "\n",
      " installation X 1625 Y 1625\n",
      "./test_models/instfsgd.p\n",
      "Mean test accuracy: 0.902 \n",
      "Precision 0.92 \n",
      "Recall 0.906 \n",
      "F-measure 0.913\n",
      "\n",
      " invocation X 1983 Y 1983\n",
      "./test_models/invtfsgd.p\n",
      "Mean test accuracy: 0.868 \n",
      "Precision 0.857 \n",
      "Recall 0.923 \n",
      "F-measure 0.889\n",
      "\n",
      " citation X 553 Y 553\n",
      "./test_models/cittfsgd.p\n",
      "Mean test accuracy: 0.879 \n",
      "Precision 0.845 \n",
      "Recall 0.965 \n",
      "F-measure 0.901\n"
     ]
    }
   ],
   "source": [
    "from sklearn.linear_model import SGDClassifier\n",
    "from sklearn.feature_extraction.text import TfidfVectorizer\n",
    "\n",
    "pipeline = make_pipeline(TfidfVectorizer(), SGDClassifier(loss='log'))\n",
    "cv = StratifiedKFold(n_splits = 5, shuffle=True)\n",
    "name = \"tfsgd\"\n",
    "evaluate(corpora,pipeline,name)"
   ]
  },
  {
   "cell_type": "markdown",
   "metadata": {},
   "source": [
    "## TFIDF + XGB"
   ]
  },
  {
   "cell_type": "code",
   "execution_count": 46,
   "metadata": {},
   "outputs": [
    {
     "name": "stdout",
     "output_type": "stream",
     "text": [
      "Requirement already satisfied: xgboost in c:\\programdata\\anaconda3\\envs\\python39\\lib\\site-packages (1.4.2)\n",
      "Requirement already satisfied: numpy in c:\\programdata\\anaconda3\\envs\\python39\\lib\\site-packages (from xgboost) (1.21.2)\n",
      "Requirement already satisfied: scipy in c:\\programdata\\anaconda3\\envs\\python39\\lib\\site-packages (from xgboost) (1.7.1)\n",
      "Note: you may need to restart the kernel to use updated packages.\n",
      "\n",
      " description X 588 Y 588\n",
      "./test_models/destfxgb.p\n",
      "Mean test accuracy: 0.772 \n",
      "Precision 0.823 \n",
      "Recall 0.768 \n",
      "F-measure 0.794\n",
      "\n",
      " installation X 1625 Y 1625\n",
      "./test_models/instfxgb.p\n",
      "Mean test accuracy: 0.828 \n",
      "Precision 0.9 \n",
      "Recall 0.786 \n",
      "F-measure 0.839\n",
      "\n",
      " invocation X 1983 Y 1983\n",
      "./test_models/invtfxgb.p\n",
      "Mean test accuracy: 0.798 \n",
      "Precision 0.779 \n",
      "Recall 0.902 \n",
      "F-measure 0.836\n",
      "\n",
      " citation X 553 Y 553\n",
      "./test_models/cittfxgb.p\n",
      "Mean test accuracy: 0.807 \n",
      "Precision 0.785 \n",
      "Recall 0.911 \n",
      "F-measure 0.843\n"
     ]
    }
   ],
   "source": [
    "%pip install xgboost\n",
    "\n",
    "from xgboost.sklearn import XGBClassifier\n",
    "from sklearn.feature_extraction.text import TfidfVectorizer\n",
    "pipeline = make_pipeline(TfidfVectorizer(), XGBClassifier(use_label_encoder=False,eval_metric=\"logloss\"))\n",
    "cv = StratifiedKFold(n_splits = 5, shuffle=True)\n",
    "name = \"tfxgb\"\n",
    "evaluate(corpora,pipeline,name)"
   ]
  },
  {
   "cell_type": "markdown",
   "metadata": {},
   "source": [
    "## Perceptron + TFIDF"
   ]
  },
  {
   "cell_type": "code",
   "execution_count": 47,
   "metadata": {},
   "outputs": [
    {
     "name": "stdout",
     "output_type": "stream",
     "text": [
      "\n",
      " description X 588 Y 588\n",
      "./test_models/destfper.p\n",
      "Mean test accuracy: 0.804 \n",
      "Precision 0.829 \n",
      "Recall 0.834 \n",
      "F-measure 0.829\n",
      "\n",
      " installation X 1625 Y 1625\n",
      "./test_models/instfper.p\n",
      "Mean test accuracy: 0.868 \n",
      "Precision 0.887 \n",
      "Recall 0.882 \n",
      "F-measure 0.884\n",
      "\n",
      " invocation X 1983 Y 1983\n",
      "./test_models/invtfper.p\n",
      "Mean test accuracy: 0.837 \n",
      "Precision 0.864 \n",
      "Recall 0.848 \n",
      "F-measure 0.856\n",
      "\n",
      " citation X 553 Y 553\n",
      "./test_models/cittfper.p\n",
      "Mean test accuracy: 0.864 \n",
      "Precision 0.85 \n",
      "Recall 0.93 \n",
      "F-measure 0.888\n"
     ]
    }
   ],
   "source": [
    "from sklearn.feature_extraction.text import TfidfVectorizer\n",
    "from sklearn.linear_model import Perceptron\n",
    "pipeline = make_pipeline(TfidfVectorizer(), Perceptron(tol=1e-3, random_state=0))\n",
    "cv = StratifiedKFold(n_splits = 5, shuffle=True)\n",
    "name = \"tfper\"\n",
    "evaluate(corpora,pipeline,name)"
   ]
  },
  {
   "cell_type": "markdown",
   "metadata": {},
   "source": [
    "## Random Forest Classifier +TFIDF"
   ]
  },
  {
   "cell_type": "code",
   "execution_count": 48,
   "metadata": {},
   "outputs": [
    {
     "name": "stdout",
     "output_type": "stream",
     "text": [
      "\n",
      " description X 588 Y 588\n",
      "./test_models/destfrfc.p\n",
      "Mean test accuracy: 0.787 \n",
      "Precision 0.835 \n",
      "Recall 0.783 \n",
      "F-measure 0.807\n",
      "\n",
      " installation X 1625 Y 1625\n",
      "./test_models/instfrfc.p\n",
      "Mean test accuracy: 0.866 \n",
      "Precision 0.913 \n",
      "Recall 0.846 \n",
      "F-measure 0.878\n",
      "\n",
      " invocation X 1983 Y 1983\n",
      "./test_models/invtfrfc.p\n",
      "Mean test accuracy: 0.83 \n",
      "Precision 0.868 \n",
      "Recall 0.828 \n",
      "F-measure 0.847\n",
      "\n",
      " citation X 553 Y 553\n",
      "./test_models/cittfrfc.p\n",
      "Mean test accuracy: 0.805 \n",
      "Precision 0.766 \n",
      "Recall 0.953 \n",
      "F-measure 0.848\n"
     ]
    }
   ],
   "source": [
    "from sklearn.feature_extraction.text import TfidfVectorizer\n",
    "from sklearn.ensemble import RandomForestClassifier\n",
    "pipeline = make_pipeline(TfidfVectorizer(), RandomForestClassifier())  #(max_depth=3, random_state=0))\n",
    "cv = StratifiedKFold(n_splits = 5, shuffle=True)\n",
    "name = \"tfrfc\"\n",
    "evaluate(corpora,pipeline,name)"
   ]
  },
  {
   "cell_type": "markdown",
   "metadata": {},
   "source": [
    "## Decision Tree Classifier +TFIDF"
   ]
  },
  {
   "cell_type": "code",
   "execution_count": 49,
   "metadata": {},
   "outputs": [
    {
     "name": "stdout",
     "output_type": "stream",
     "text": [
      "\n",
      " description X 588 Y 588\n",
      "./test_models/destfdtc.p\n",
      "Mean test accuracy: 0.765 \n",
      "Precision 0.813 \n",
      "Recall 0.768 \n",
      "F-measure 0.788\n",
      "\n",
      " installation X 1625 Y 1625\n",
      "./test_models/instfdtc.p\n",
      "Mean test accuracy: 0.822 \n",
      "Precision 0.887 \n",
      "Recall 0.789 \n",
      "F-measure 0.835\n",
      "\n",
      " invocation X 1983 Y 1983\n",
      "./test_models/invtfdtc.p\n",
      "Mean test accuracy: 0.754 \n",
      "Precision 0.837 \n",
      "Recall 0.709 \n",
      "F-measure 0.767\n",
      "\n",
      " citation X 553 Y 553\n",
      "./test_models/cittfdtc.p\n",
      "Mean test accuracy: 0.828 \n",
      "Precision 0.811 \n",
      "Recall 0.914 \n",
      "F-measure 0.859\n"
     ]
    }
   ],
   "source": [
    "from sklearn.feature_extraction.text import TfidfVectorizer\n",
    "from sklearn.tree import DecisionTreeClassifier\n",
    "pipeline = make_pipeline(CountVectorizer(), DecisionTreeClassifier())\n",
    "cv = StratifiedKFold(n_splits = 5, shuffle=True)\n",
    "name = \"tfdtc\"\n",
    "evaluate(corpora,pipeline,name)"
   ]
  },
  {
   "cell_type": "markdown",
   "metadata": {},
   "source": [
    "## TFIDF + AdaBoostClassifier"
   ]
  },
  {
   "cell_type": "code",
   "execution_count": 50,
   "metadata": {},
   "outputs": [
    {
     "name": "stdout",
     "output_type": "stream",
     "text": [
      "\n",
      " description X 588 Y 588\n",
      "./test_models/destfada.p\n",
      "Mean test accuracy: 0.771 \n",
      "Precision 0.822 \n",
      "Recall 0.762 \n",
      "F-measure 0.791\n",
      "\n",
      " installation X 1625 Y 1625\n",
      "./test_models/instfada.p\n",
      "Mean test accuracy: 0.793 \n",
      "Precision 0.906 \n",
      "Recall 0.713 \n",
      "F-measure 0.797\n",
      "\n",
      " invocation X 1983 Y 1983\n",
      "./test_models/invtfada.p\n",
      "Mean test accuracy: 0.779 \n",
      "Precision 0.762 \n",
      "Recall 0.893 \n",
      "F-measure 0.822\n",
      "\n",
      " citation X 553 Y 553\n",
      "./test_models/cittfada.p\n",
      "Mean test accuracy: 0.835 \n",
      "Precision 0.938 \n",
      "Recall 0.763 \n",
      "F-measure 0.841\n"
     ]
    }
   ],
   "source": [
    "from sklearn.feature_extraction.text import TfidfVectorizer\n",
    "from sklearn.ensemble import AdaBoostClassifier\n",
    "pipeline = make_pipeline(TfidfVectorizer(), AdaBoostClassifier())  #(max_depth=3, random_state=0))\n",
    "cv = StratifiedKFold(n_splits = 5, shuffle=True)\n",
    "name = \"tfada\"\n",
    "evaluate(corpora,pipeline,name)"
   ]
  },
  {
   "cell_type": "code",
   "execution_count": null,
   "metadata": {},
   "outputs": [],
   "source": []
  },
  {
   "cell_type": "code",
   "execution_count": null,
   "metadata": {},
   "outputs": [],
   "source": []
  },
  {
   "cell_type": "code",
   "execution_count": null,
   "metadata": {},
   "outputs": [],
   "source": []
  },
  {
   "cell_type": "code",
   "execution_count": null,
   "metadata": {},
   "outputs": [],
   "source": []
  },
  {
   "cell_type": "code",
   "execution_count": null,
   "metadata": {},
   "outputs": [],
   "source": []
  },
  {
   "cell_type": "code",
   "execution_count": null,
   "metadata": {},
   "outputs": [],
   "source": []
  },
  {
   "cell_type": "code",
   "execution_count": null,
   "metadata": {},
   "outputs": [],
   "source": []
  },
  {
   "cell_type": "code",
   "execution_count": null,
   "metadata": {},
   "outputs": [],
   "source": []
  },
  {
   "cell_type": "code",
   "execution_count": null,
   "metadata": {},
   "outputs": [],
   "source": []
  }
 ],
 "metadata": {
  "kernelspec": {
   "display_name": "Python 3 (ipykernel)",
   "language": "python",
   "name": "python3"
  },
  "language_info": {
   "codemirror_mode": {
    "name": "ipython",
    "version": 3
   },
   "file_extension": ".py",
   "mimetype": "text/x-python",
   "name": "python",
   "nbconvert_exporter": "python",
   "pygments_lexer": "ipython3",
   "version": "3.9.0"
  }
 },
 "nbformat": 4,
 "nbformat_minor": 2
}
