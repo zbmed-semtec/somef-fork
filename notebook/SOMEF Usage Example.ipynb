{
 "cells": [
  {
   "cell_type": "markdown",
   "metadata": {},
   "source": [
    "## Using SOMEF"
   ]
  },
  {
   "cell_type": "markdown",
   "metadata": {},
   "source": [
    "The SOftwae MEtadata Extraction Framework (SOFEF) can be used to extract metadata from a software repository and its documentation. In this notebook we cover a few examples on how to configure and run the tool\n",
    "\n",
    "### 1. Tool options\n",
    "By executing the help command, you can see the different options for running SOMEF:"
   ]
  },
  {
   "cell_type": "code",
   "execution_count": null,
   "metadata": {},
   "outputs": [],
   "source": [
    "%%bash\n",
    "somef --help"
   ]
  },
  {
   "cell_type": "markdown",
   "metadata": {},
   "source": [
    "### 2. Setting up SOMEF\n",
    "Before you run SOMEF for the first time, you have to configure it. This only needs to be done **once**. \n",
    "\n",
    "Running somef with the `-a` option will use the defaults, but it won't use any GitHub API token (i.e., it is limited by GitHub). You can edit the SOMEF configuration file afterwards to include the token, don't worry."
   ]
  },
  {
   "cell_type": "code",
   "execution_count": null,
   "metadata": {},
   "outputs": [],
   "source": [
    "%%bash\n",
    "somef configure -a"
   ]
  },
  {
   "cell_type": "markdown",
   "metadata": {},
   "source": [
    "### 3. Running SOMEF\n",
    "Now you are set up for running SOMEF. Let's analyze the repository KGTK (https://github.com/usc-isi-i2/kgtk), a repository of a Knowledge Graph Toolkit. If you want to analyze any other repository, just add its link. If you want to obtain only results with a high confidence, you may incrrease the confidence threshold used for the supervised classifiers (default: 0.8). This can be done with the flag `-t`. See `somef describe --help` for more information"
   ]
  },
  {
   "cell_type": "code",
   "execution_count": null,
   "metadata": {},
   "outputs": [],
   "source": [
    "%%bash\n",
    "somef describe -r https://github.com/usc-isi-i2/kgtk -o test.json"
   ]
  },
  {
   "cell_type": "markdown",
   "metadata": {},
   "source": [
    "### 4. Browse obtained results:\n",
    "Now let's see the result file, which contains a set of entries with the results found. For each entry, SOMEF returns the technique used in the extraction and the confidence associated with such technique. For example, if a supervised classifier has been used, somef returns the score for each sentence in the excerpt. To export results as RDF, just use the `-g` and `-f` options"
   ]
  },
  {
   "cell_type": "code",
   "execution_count": null,
   "metadata": {},
   "outputs": [],
   "source": [
    "import json\n",
    "f = open('test.json',) \n",
    "results = json.load(f)\n",
    "results"
   ]
  }
 ],
 "metadata": {
  "kernelspec": {
   "display_name": "Python 3",
   "language": "python",
   "name": "python3"
  },
  "language_info": {
   "codemirror_mode": {
    "name": "ipython",
    "version": 3
   },
   "file_extension": ".py",
   "mimetype": "text/x-python",
   "name": "python",
   "nbconvert_exporter": "python",
   "pygments_lexer": "ipython3",
   "version": "3.9.18"
  }
 },
 "nbformat": 4,
 "nbformat_minor": 4
}
